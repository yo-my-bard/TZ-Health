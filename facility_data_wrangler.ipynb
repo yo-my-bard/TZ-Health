{
 "cells": [
  {
   "cell_type": "markdown",
   "metadata": {},
   "source": [
    "### Data and tools prep"
   ]
  },
  {
   "cell_type": "code",
   "execution_count": null,
   "metadata": {},
   "outputs": [],
   "source": [
    "import pandas as pd\n",
    "import numpy as np"
   ]
  },
  {
   "cell_type": "code",
   "execution_count": null,
   "metadata": {},
   "outputs": [],
   "source": [
    "facility = pd.read_csv(\"./data/Health_Facilities_2019-07-03.csv\")"
   ]
  },
  {
   "cell_type": "code",
   "execution_count": null,
   "metadata": {},
   "outputs": [],
   "source": [
    "facility"
   ]
  },
  {
   "cell_type": "code",
   "execution_count": null,
   "metadata": {
    "scrolled": true
   },
   "outputs": [],
   "source": [
    "facility.columns"
   ]
  },
  {
   "cell_type": "code",
   "execution_count": null,
   "metadata": {
    "scrolled": true
   },
   "outputs": [],
   "source": [
    "#'Sterilazation_and_Infection_Control' has multiple columns - some from infrastructure, others from service\n",
    "#but pd.concat may have mixed up where the data ended up\n",
    "#Ah maybe the fix is easy? the original col and .2(from infra), .1 and .3 (from service) seem to be the same?\n",
    "facility[['Facility_ID', 'Sterilazation_and_Infection_Control', 'Sterilazation_and_Infection_Control.1',\n",
    "         'Sterilazation_and_Infection_Control.2', 'Sterilazation_and_Infection_Control.3']]\n",
    "\n",
    "#Yup they're repeating columns. Keeping the original and .1\n",
    "all(facility['Sterilazation_and_Infection_Control'].fillna('NA') == facility['Sterilazation_and_Infection_Control.2'].fillna('NA'))\n",
    "all(facility['Sterilazation_and_Infection_Control.1'].fillna('NA') == facility['Sterilazation_and_Infection_Control.3'].fillna('NA'))"
   ]
  },
  {
   "cell_type": "markdown",
   "metadata": {},
   "source": [
    "### The Task: We want a *facility_services table* and *facility_infrastructure table*"
   ]
  },
  {
   "cell_type": "code",
   "execution_count": null,
   "metadata": {
    "scrolled": true
   },
   "outputs": [],
   "source": [
    "\n",
    "fac_serv_wide = facility[['Facility_ID','General_Clinical_Services', 'Malaria_Diagnosis_and_Treatment',\n",
    "       'TB_Diagnosis,Care_and_Treatment', 'Cardiouvascula_Care_and_Treatment',\n",
    "       'HIV/AIDS_Prevention', 'HIV/AIDS_Care_and_Treatment', 'Therapeutics',\n",
    "       'Prosthetics_and_Medical_Devices',\n",
    "       'Health_Promotion_and_Disease_Prevention', 'Diagnosis_Serices',\n",
    "       'Reproductive_&_Child_Health_Care_Serices',\n",
    "       'Growth_Monitoring/Nutrition_&_Surveliance',\n",
    "       'Oral_Health_Services(Dental_Serices)', 'ENT_Services',\n",
    "       'Sterilazation_and_Infection_Control.1', 'Support_Services',\n",
    "       'Emergency_Preparedness', 'Other_Services']]\n",
    "\n",
    "#Keep this wide for now\n",
    "facility_info = facility[['Facility_ID', 'Facility Name', 'Ward', 'Village/Street',\n",
    "       'Facility Type', 'Operating Status', 'Ownership', 'Latitude',\n",
    "       'Longitude', 'Facility_Zone', 'Facility_Region', 'Facility_District',\n",
    "       'Facility_Council', 'Facility_Location', 'Common_Facility_Name',\n",
    "       'Registration_ID', 'CTC_ID', 'MTUHA_Code', 'MSD_ID', 'Facility_Type',\n",
    "       'Facility_Ownership', 'Facility_Operating_Status',\n",
    "       'Facility_Registration_Status', 'Location_Description',\n",
    "       'Waypoint_Number', 'Altitude(Meters)', 'Service_Areas(Villages)',\n",
    "       'Catchment_Population', 'Date_Opened/Inaugurated/Upgraded', 'Year',\n",
    "       'Postal_Address', 'Postal_Code', 'Official_Phone_#', 'Official_Fax_#',\n",
    "       'Official_Email', 'Facility_In-Charge_Name',\n",
    "       'Facility_In-Charge_Cadre', 'Website']]"
   ]
  },
  {
   "cell_type": "code",
   "execution_count": null,
   "metadata": {},
   "outputs": [],
   "source": [
    "#To reverse the melt, df.pivot (or just use the original DFs)\n",
    "facility_services = pd.melt(fac_serv_wide, id_vars='Facility_ID', var_name=\"Type of Service\", value_name=\"Services\")"
   ]
  },
  {
   "cell_type": "markdown",
   "metadata": {},
   "source": [
    "### Section 1: Creating a manual collection of services and adding delimiters to existing data"
   ]
  },
  {
   "cell_type": "code",
   "execution_count": null,
   "metadata": {},
   "outputs": [],
   "source": [
    "#This is a lot to process and the data structure still isn't right for the long version of the table\n",
    "#It should be a service per row, but current rows can contain 4 or more services with no clear delimiters\n",
    "#So - we'll add delimiters in an iterative process below and wrangle to 1 service per row.\n",
    "list(facility_services['Services'].unique())"
   ]
  },
  {
   "cell_type": "code",
   "execution_count": null,
   "metadata": {},
   "outputs": [],
   "source": [
    "#I can manually start a collection of all unique services.\n",
    "#Then, I can wrap a delimiter around the service, this time I'm choosing a caret - thank you CALPADS.\n",
    "#As I add new services to the list, I use dwindle to surface the next service that needs to be added to the list.\n",
    "#If we do this right, the unique list of services should == the manual collection of services.\n",
    "#ISSUE 1: If we have \"Lab: X-Ray\" and \"X-Ray\", the list can't contain \"X-Ray\",\n",
    "#otherwise it'll leave \"Lab: \". We should do the longer of the two, then come back to the others.\n",
    "#Known others: Radiology Services, Laboratory, Lab: Pathology, Family Planning, Surgical Intervetion, X-Ray\n",
    "def wrap_with_caret(x, services):\n",
    "    if type(x) == float:\n",
    "        return x\n",
    "    for i in services:\n",
    "        if i in x:\n",
    "            x = x.replace(i, '^'+i+'^')\n",
    "    return x\n",
    "\n",
    "def split_caret(x):\n",
    "    if type(x) == float:\n",
    "        return x\n",
    "    x = x.split('^')\n",
    "    return x\n",
    "\n",
    "def keep_just_services(x):\n",
    "    if type(x) == float:\n",
    "        return [x]\n",
    "    return [service for service in x if bool(service and not service.isspace())]\n",
    "\n",
    "def dwindle(x, seen):\n",
    "    \"\"\"Reduce the number of services you have to look at by replacing ones you've already recorded with empty strings\"\"\"\n",
    "    if type(x) == float:\n",
    "        return x\n",
    "    for i in seen:\n",
    "        if i in x:\n",
    "            x = x.replace(i, '')\n",
    "    if x.isspace():\n",
    "        return ''\n",
    "    else:\n",
    "        return x\n",
    "    \n",
    "def search_services(x, keywords):\n",
    "    \"\"\"Helper to search for occurrences of services if unsure so that I can paste the ID into url\"\"\"\n",
    "    if type(x) == float:\n",
    "        return False\n",
    "    else:\n",
    "        if keywords in x:\n",
    "            return True\n",
    "        else:\n",
    "            return False\n",
    "        \n",
    "def create_long_df_rows(new_rows_list, df):\n",
    "    \"\"\"Create a list of list to create a long format of the df. Services were previously housed in a list\n",
    "    format in df, but will be 'unpacked' so each service gets its own row and data type for the column is\n",
    "    standardized to plain text.\"\"\"\n",
    "    for row in df.values.tolist():\n",
    "        for service in row[2]:\n",
    "            new_rows_list.append([row[0], row[1], service]) \n",
    "#test = facility_services.loc[[0,1,2,3]] #if need to test something"
   ]
  },
  {
   "cell_type": "code",
   "execution_count": null,
   "metadata": {
    "scrolled": true
   },
   "outputs": [],
   "source": [
    "#Run this and keep refreshing/adding to the services_list doc with new services\n",
    "services_list = pd.read_csv('services_list.csv')\n",
    "list(facility_services['Services'].apply(lambda x: dwindle(x, services_list['services_list'])).unique())"
   ]
  },
  {
   "cell_type": "code",
   "execution_count": null,
   "metadata": {
    "scrolled": true
   },
   "outputs": [],
   "source": [
    "#Search for keywords when needed\n",
    "facility_services[facility_services.Services.apply(lambda x: search_services(x, 'Serives'))]"
   ]
  },
  {
   "cell_type": "code",
   "execution_count": null,
   "metadata": {
    "scrolled": true
   },
   "outputs": [],
   "source": [
    "#Chain our applies for desired effects\n",
    "facility_services['Services'] = facility_services['Services']\\\n",
    "                                .apply(lambda x: wrap_with_caret(x, services_list.services_list))\\\n",
    "                                .apply(lambda x: split_caret(x))\\\n",
    "                                .apply(lambda x: keep_just_services(x))\n",
    "facility_services"
   ]
  },
  {
   "cell_type": "code",
   "execution_count": null,
   "metadata": {},
   "outputs": [],
   "source": [
    "#Create list of lists for the new rows\n",
    "new_service_rows = []\n",
    "create_long_df_rows(new_service_rows, facility_services)\n",
    "#Create the long data frame\n",
    "longer_facility_services = pd.DataFrame(new_service_rows, columns=facility_services.columns)"
   ]
  },
  {
   "cell_type": "code",
   "execution_count": null,
   "metadata": {
    "scrolled": true
   },
   "outputs": [],
   "source": [
    "longer_facility_services"
   ]
  },
  {
   "cell_type": "markdown",
   "metadata": {},
   "source": [
    "### Section 2: Pesky Overlaps for Services"
   ]
  },
  {
   "cell_type": "code",
   "execution_count": null,
   "metadata": {},
   "outputs": [],
   "source": [
    "#Great - the first round went super well! Now we have to get those pesky overlaps.\n",
    "#Radiology Services, Laboratory, Lab: Pathology, Family Planning, Surgical Intervetion, X-Ray\n",
    "#They seem to be grouped by Type of Service\n",
    "longer_facility_services['Services'].unique()"
   ]
  },
  {
   "cell_type": "code",
   "execution_count": null,
   "metadata": {},
   "outputs": [],
   "source": [
    "longer_facility_services['Type of Service'].unique()"
   ]
  },
  {
   "cell_type": "markdown",
   "metadata": {},
   "source": [
    "#### Section 2a: Confirming how they are grouped and which interventions might be fix the issues"
   ]
  },
  {
   "cell_type": "code",
   "execution_count": null,
   "metadata": {},
   "outputs": [],
   "source": [
    "#For X-Ray\n",
    "tb_service = longer_facility_services[longer_facility_services['Type of Service'] == \"TB_Diagnosis,Care_and_Treatment\"]\n",
    "tb_service['Services'].unique()"
   ]
  },
  {
   "cell_type": "code",
   "execution_count": null,
   "metadata": {},
   "outputs": [],
   "source": [
    "#For Surgical Intervetion (also a misspelling but at least it's a global misspelling ;) ) \n",
    "oral_service = longer_facility_services[longer_facility_services['Type of Service'] == \"Oral_Health_Services(Dental_Serices)\"]\n",
    "oral_service['Services'].unique()"
   ]
  },
  {
   "cell_type": "code",
   "execution_count": null,
   "metadata": {},
   "outputs": [],
   "source": [
    "#For Family Planning\n",
    "fam_service = longer_facility_services[longer_facility_services['Type of Service'] == \"Reproductive_&_Child_Health_Care_Serices\"]\n",
    "fam_service['Services'].unique()"
   ]
  },
  {
   "cell_type": "code",
   "execution_count": null,
   "metadata": {},
   "outputs": [],
   "source": [
    "#For Diagnosis Services - Radiology Services, Laboratory, Lab: Pathology\n",
    "#A little harder because sometimes they need to be split up from each other\n",
    "#Easy win is to strip the space like the others first, then tackle the unique cases that need split:\n",
    "#Laboratory Radiology Services, Laboratory Lab: Pathology, Lab: Pathology Radiology Services\n",
    "#We can do a unique version of caret delimeter that looks at wrapping these cases in particular\n",
    "fam_service = longer_facility_services[longer_facility_services['Type of Service'] == \"Diagnosis_Serices\"]\n",
    "fam_service['Services'].unique()"
   ]
  },
  {
   "cell_type": "markdown",
   "metadata": {},
   "source": [
    "#### Section 2b: Fixing the low hanging fruit by using .strip() to remove whitespaces around them. Re-run Section 2a to see changes"
   ]
  },
  {
   "cell_type": "code",
   "execution_count": null,
   "metadata": {},
   "outputs": [],
   "source": [
    "def remove_space(row, service_type, keyword):\n",
    "    try:\n",
    "        if row['Type of Service'] == service_type:\n",
    "            if keyword in row['Services']:\n",
    "                return row['Services'].strip()\n",
    "            else:\n",
    "                return row['Services']\n",
    "        else:\n",
    "            return row['Services']\n",
    "    except KeyError:\n",
    "        if row['Type of Infrastructure'] == service_type:\n",
    "            if keyword in row['Value']:\n",
    "                return row['Value'].strip()\n",
    "            else:\n",
    "                return row['Value']\n",
    "        else:\n",
    "            return row['Value']"
   ]
  },
  {
   "cell_type": "code",
   "execution_count": null,
   "metadata": {},
   "outputs": [],
   "source": [
    "longer_facility_services['Services'] = longer_facility_services.apply(lambda row: remove_space(row, \"TB_Diagnosis,Care_and_Treatment\", \"X-Ray\" ), axis=1)"
   ]
  },
  {
   "cell_type": "code",
   "execution_count": null,
   "metadata": {},
   "outputs": [],
   "source": [
    "longer_facility_services['Services'] = longer_facility_services.apply(lambda row: remove_space(row, \"Oral_Health_Services(Dental_Serices)\", \"Surgical Intervetion\" ), axis=1)"
   ]
  },
  {
   "cell_type": "code",
   "execution_count": null,
   "metadata": {},
   "outputs": [],
   "source": [
    "longer_facility_services['Services'] = longer_facility_services.apply(lambda row: remove_space(row, \"Reproductive_&_Child_Health_Care_Serices\", \"Family Planning\" ), axis=1)"
   ]
  },
  {
   "cell_type": "code",
   "execution_count": null,
   "metadata": {},
   "outputs": [],
   "source": [
    "longer_facility_services['Services'] = longer_facility_services.apply(lambda row: remove_space(row, \"Diagnosis_Serices\", \"Radiology Services\" ), axis=1)\n",
    "longer_facility_services['Services'] = longer_facility_services.apply(lambda row: remove_space(row, \"Diagnosis_Serices\", \"Laboratory\" ), axis=1)\n",
    "longer_facility_services['Services'] = longer_facility_services.apply(lambda row: remove_space(row, \"Diagnosis_Serices\", \"Lab: Pathology\" ), axis=1)"
   ]
  },
  {
   "cell_type": "code",
   "execution_count": null,
   "metadata": {},
   "outputs": [],
   "source": [
    "longer_facility_services.shape"
   ]
  },
  {
   "cell_type": "markdown",
   "metadata": {},
   "source": [
    "#### Section 2c: For Diagnosis Services, we need a step 2. Because edge cases are known, a specific edge case version of caret wrap should fix the issue. Then we can repeat the chaining steps that created longer_facility_services"
   ]
  },
  {
   "cell_type": "code",
   "execution_count": null,
   "metadata": {},
   "outputs": [],
   "source": [
    "def wrap_with_caret_v2(x):\n",
    "    \"\"\"For remaining Diagnosis Services edge cases\n",
    "    Laboratory Radiology Services, \n",
    "    Laboratory Lab: Pathology, \n",
    "    Lab: Pathology Radiology Services\"\"\"\n",
    "    if type(x) == float:\n",
    "        return x\n",
    "    if x == \"Laboratory Radiology Services\":\n",
    "        x = \"^Laboratory^ ^Radiology Services^\"\n",
    "    if x == \"Laboratory Lab: Pathology\":\n",
    "        x = \"^Laboratory^ ^Lab: Pathology^\"\n",
    "    if x == \"Lab: Pathology Radiology Services\":\n",
    "        x = \"^Lab: Pathology^ ^Radiology Services^\"\n",
    "    return x"
   ]
  },
  {
   "cell_type": "code",
   "execution_count": null,
   "metadata": {
    "scrolled": true
   },
   "outputs": [],
   "source": [
    "longer_facility_services['Services'] = longer_facility_services['Services']\\\n",
    "                                        .apply(lambda x: wrap_with_caret_v2(x))\\\n",
    "                                        .apply(lambda x: split_caret(x))\\\n",
    "                                        .apply(lambda x: keep_just_services(x))"
   ]
  },
  {
   "cell_type": "code",
   "execution_count": null,
   "metadata": {
    "scrolled": true
   },
   "outputs": [],
   "source": [
    "new_service_rows = []\n",
    "create_long_df_rows(new_service_rows, longer_facility_services)\n",
    "#Yay did it!\n",
    "normalized_facility_services = pd.DataFrame(new_service_rows, columns=longer_facility_services.columns)"
   ]
  },
  {
   "cell_type": "code",
   "execution_count": null,
   "metadata": {},
   "outputs": [],
   "source": [
    "normalized_facility_services['Services'].unique()"
   ]
  },
  {
   "cell_type": "code",
   "execution_count": null,
   "metadata": {},
   "outputs": [],
   "source": [
    "normalized_facility_services.shape"
   ]
  },
  {
   "cell_type": "markdown",
   "metadata": {},
   "source": [
    "### Section 3: Anything to clean up for infrastructure?"
   ]
  },
  {
   "cell_type": "code",
   "execution_count": null,
   "metadata": {},
   "outputs": [],
   "source": [
    "fac_infra_wide = facility[['Facility_ID', 'Reception_Room(s)',\n",
    "       'Consultation_Room(s)', 'Dressing_Room(s)', 'Ward_Room(s)',\n",
    "       'Injection_Room(s)', 'Observation_Room(s)', 'Remarks', 'Patient_Beds',\n",
    "       'Deliery_Beds', 'Baby_Cots', 'Ambulances', 'Cars', 'Motorcycles',\n",
    "       'Other_Transport', 'Sterilazation_and_Infection_Control',\n",
    "       'Means_of_Transport_to_Referral_Point', 'Distance_to_Referral_Point',\n",
    "       'Challanges/Remarks_to_Referral_Point', 'Source_of_Energy',\n",
    "       'Other_Source_of_Energy', 'Mobile_Networks', 'Other_Mobile_Networks',\n",
    "       'Source_of_Water', 'Other_Source_of_Water', 'Toilet_Facility',\n",
    "       'Toilet_Remarks', 'Waste_Management', 'Other_Waste_Management']]\n",
    "\n",
    "#To reverse the melt, df.pivot (or just use the original DFs)\n",
    "facility_infrastructure = pd.melt(fac_infra_wide, id_vars='Facility_ID', var_name=\"Type of Infrastructure\", value_name='Infrastructure')"
   ]
  },
  {
   "cell_type": "code",
   "execution_count": null,
   "metadata": {
    "scrolled": true
   },
   "outputs": [],
   "source": [
    "facility_infrastructure['Type of Infrastructure'].unique()"
   ]
  },
  {
   "cell_type": "markdown",
   "metadata": {},
   "source": [
    "#### Section 3a: Review the data to see if long data design makes sense"
   ]
  },
  {
   "cell_type": "code",
   "execution_count": null,
   "metadata": {
    "scrolled": true
   },
   "outputs": [],
   "source": [
    "for i in list(facility_infrastructure['Type of Infrastructure'].unique()):\n",
    "    print(i, facility_infrastructure[facility_infrastructure['Type of Infrastructure'] == i]['Infrastructure'].unique(), '\\n')\n",
    "\n",
    "#Source_of_Energy, Mobile_Networks, Source_of_Water, Toilet_Facility, Waste_Management are the only good candidates\n",
    "#for a long facility_infrastructure design"
   ]
  },
  {
   "cell_type": "code",
   "execution_count": null,
   "metadata": {},
   "outputs": [],
   "source": [
    "#Might be worth creating a facility_infrastructure_a (just columns that can melt) and facility_infrastructure_b (wide version)\n",
    "fac_infra_a_wide = facility[['Facility_ID', 'Source_of_Energy', 'Mobile_Networks',\n",
    "          'Source_of_Water', 'Toilet_Facility', 'Waste_Management']]\n",
    "\n",
    "facility_infrastructure_b = facility[['Facility_ID', 'Reception_Room(s)',\n",
    "       'Consultation_Room(s)', 'Dressing_Room(s)', 'Ward_Room(s)',\n",
    "       'Injection_Room(s)', 'Observation_Room(s)', 'Remarks', 'Patient_Beds',\n",
    "       'Deliery_Beds', 'Baby_Cots', 'Ambulances', 'Cars', 'Motorcycles',\n",
    "       'Other_Transport', 'Sterilazation_and_Infection_Control',\n",
    "       'Means_of_Transport_to_Referral_Point', 'Distance_to_Referral_Point',\n",
    "       'Challanges/Remarks_to_Referral_Point',\n",
    "       'Other_Source_of_Energy', 'Other_Mobile_Networks', 'Other_Source_of_Water',\n",
    "       'Toilet_Remarks', 'Other_Waste_Management']]\n",
    "\n",
    "print(fac_infra_a_wide.shape)\n",
    "print(facility_infrastructure_b.shape)\n",
    "print(fac_infra_wide.shape)"
   ]
  },
  {
   "cell_type": "markdown",
   "metadata": {},
   "source": [
    "#### Section 3b: Reformat facility_infrastructure_a"
   ]
  },
  {
   "cell_type": "code",
   "execution_count": null,
   "metadata": {},
   "outputs": [],
   "source": [
    "facility_infrastructure_a = pd.melt(fac_infra_a_wide, id_vars='Facility_ID', var_name=\"Type of Infrastructure\",\n",
    "                                  value_name=\"Value\" )"
   ]
  },
  {
   "cell_type": "code",
   "execution_count": null,
   "metadata": {},
   "outputs": [],
   "source": [
    "facility_infrastructure_a['Value'].unique()"
   ]
  },
  {
   "cell_type": "code",
   "execution_count": null,
   "metadata": {
    "scrolled": true
   },
   "outputs": [],
   "source": [
    "#Search for unclear ones if needed\n",
    "facility_infrastructure_a[facility_infrastructure_a['Value'].apply(lambda x: search_services(x, \"Flush/Pour\"))]"
   ]
  },
  {
   "cell_type": "code",
   "execution_count": null,
   "metadata": {
    "scrolled": true
   },
   "outputs": [],
   "source": [
    "#Load and refresh the infrastructure list to get unique services that should be wrapped with carets\n",
    "infra_list = pd.read_csv(\"infrastructure_list.csv\")\n",
    "list(facility_infrastructure_a['Value'].apply(lambda v: dwindle(v, infra_list.infra_list)).unique())"
   ]
  },
  {
   "cell_type": "code",
   "execution_count": null,
   "metadata": {},
   "outputs": [],
   "source": [
    "#Chain the reformatting\n",
    "facility_infrastructure_a['Value'] = facility_infrastructure_a['Value']\\\n",
    "                                        .apply(lambda x: wrap_with_caret(x, infra_list.infra_list))\\\n",
    "                                        .apply(lambda x: split_caret(x))\\\n",
    "                                        .apply(lambda x: keep_just_services(x))"
   ]
  },
  {
   "cell_type": "code",
   "execution_count": null,
   "metadata": {},
   "outputs": [],
   "source": [
    "new_rows = []\n",
    "create_long_df_rows(new_rows, facility_infrastructure_a)\n",
    "#Create new long DF\n",
    "long_fac_infra_a = pd.DataFrame(new_rows, columns = facility_infrastructure_a.columns)"
   ]
  },
  {
   "cell_type": "code",
   "execution_count": null,
   "metadata": {
    "scrolled": true
   },
   "outputs": [],
   "source": [
    "long_fac_infra_a"
   ]
  },
  {
   "cell_type": "markdown",
   "metadata": {},
   "source": [
    "#### Section 3c: Two Overlaps: Other and Pit Latrine, use remove_spaces to fix both of them."
   ]
  },
  {
   "cell_type": "code",
   "execution_count": null,
   "metadata": {},
   "outputs": [],
   "source": [
    "long_fac_infra_a['Type of Infrastructure'].unique()"
   ]
  },
  {
   "cell_type": "code",
   "execution_count": null,
   "metadata": {},
   "outputs": [],
   "source": [
    "#For Other\n",
    "long_fac_infra_a[long_fac_infra_a['Type of Infrastructure'] == 'Source_of_Energy']['Value'].unique()"
   ]
  },
  {
   "cell_type": "code",
   "execution_count": null,
   "metadata": {},
   "outputs": [],
   "source": [
    "#For Pit Latrine\n",
    "long_fac_infra_a[long_fac_infra_a['Type of Infrastructure'] == 'Toilet_Facility']['Value'].unique()"
   ]
  },
  {
   "cell_type": "code",
   "execution_count": null,
   "metadata": {
    "scrolled": true
   },
   "outputs": [],
   "source": [
    "#Use remove_spaces to .strip() whitespaces. Re-run the two cells above to confirm all are now fixed.\n",
    "long_fac_infra_a['Value'] = long_fac_infra_a.apply(lambda x: remove_space(x, \"Source_of_Energy\", \"Other\"), axis=1)\n",
    "long_fac_infra_a['Value'] = long_fac_infra_a.apply(lambda x: remove_space(x, \"Toilet_Facility\", \"Pit Latrine\"), axis=1)"
   ]
  },
  {
   "cell_type": "code",
   "execution_count": null,
   "metadata": {},
   "outputs": [],
   "source": [
    "#### And done!\n",
    "long_fac_infra_a.shape"
   ]
  },
  {
   "cell_type": "markdown",
   "metadata": {},
   "source": [
    "### Section 4: Done and save your work!"
   ]
  },
  {
   "cell_type": "code",
   "execution_count": null,
   "metadata": {},
   "outputs": [],
   "source": [
    "### Save Your Work and upload to Kaggle\n",
    "long_fac_infra_a.to_csv('./data/facility_infrastructure_a.csv', index=False)\n",
    "facility_infrastructure_b.to_csv('./data/facility_infrastructure_b.csv', index=False)\n",
    "normalized_facility_services.to_csv('./data/facility_services.csv', index=False)\n",
    "facility_info.to_csv('./data/facility_info.csv', index=False)"
   ]
  },
  {
   "cell_type": "code",
   "execution_count": null,
   "metadata": {},
   "outputs": [],
   "source": []
  }
 ],
 "metadata": {
  "kernelspec": {
   "display_name": "Python 3",
   "language": "python",
   "name": "python3"
  },
  "language_info": {
   "codemirror_mode": {
    "name": "ipython",
    "version": 3
   },
   "file_extension": ".py",
   "mimetype": "text/x-python",
   "name": "python",
   "nbconvert_exporter": "python",
   "pygments_lexer": "ipython3",
   "version": "3.7.1"
  }
 },
 "nbformat": 4,
 "nbformat_minor": 2
}
